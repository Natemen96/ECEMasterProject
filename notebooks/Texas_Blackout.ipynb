{
 "metadata": {
  "language_info": {
   "codemirror_mode": {
    "name": "ipython",
    "version": 3
   },
   "file_extension": ".py",
   "mimetype": "text/x-python",
   "name": "python",
   "nbconvert_exporter": "python",
   "pygments_lexer": "ipython3",
   "version": "3.7.7-final"
  },
  "orig_nbformat": 2,
  "kernelspec": {
   "name": "python3",
   "display_name": "Python 3.7.7 64-bit ('tf': conda)",
   "metadata": {
    "interpreter": {
     "hash": "7044b324f88c4208d441c8fce3c8f6c454026eeaf7e810a2852062e3590255dc"
    }
   }
  }
 },
 "nbformat": 4,
 "nbformat_minor": 2,
 "cells": [
  {
   "cell_type": "code",
   "execution_count": 1,
   "metadata": {
    "tags": []
   },
   "outputs": [
    {
     "output_type": "stream",
     "name": "stderr",
     "text": [
      "Using TensorFlow backend.\n"
     ]
    }
   ],
   "source": [
    "import numpy as np \n",
    "import math\n",
    "import matplotlib.pyplot as plt\n",
    "import matplotlib.dates as mdates\n",
    "\n",
    "import copy \n",
    "import pandas as pd\n",
    "import time\n",
    "import datetime\n",
    "\n",
    "from keras.models import Sequential, load_model\n",
    "from keras.layers import Dense\n",
    "from keras.layers import LSTM\n",
    "from keras.layers import Dropout, Flatten\n",
    "from sklearn.preprocessing import MinMaxScaler\n",
    "from sklearn.metrics import mean_squared_error\n",
    "np.random.seed(7)"
   ]
  },
  {
   "source": [
    "# Data Preprocessing"
   ],
   "cell_type": "markdown",
   "metadata": {}
  },
  {
   "cell_type": "code",
   "execution_count": 9,
   "metadata": {},
   "outputs": [],
   "source": [
    "Dataset = r'../scripts/Data/TexasBlackout.csv'\n",
    "fulldata = pd.read_csv(Dataset) "
   ]
  },
  {
   "cell_type": "code",
   "execution_count": null,
   "metadata": {},
   "outputs": [],
   "source": []
  },
  {
   "cell_type": "code",
   "execution_count": 10,
   "metadata": {},
   "outputs": [
    {
     "output_type": "execute_result",
     "data": {
      "text/plain": [
       "          ID     County Customers Tracked Customers Out Outage %  \\\n",
       "0       1510     Dallam             5,727             0       0%   \n",
       "1       1734    Sherman             2,992             0       0%   \n",
       "2       1762   Hansford             5,098             0       0%   \n",
       "3       1801  Ochiltree             8,959             0       0%   \n",
       "4       1858   Lipscomb             4,164             0       0%   \n",
       "...      ...        ...               ...           ...      ...   \n",
       "204138  1581       Camp             8,126             0       0%   \n",
       "204139  1454      Rains            11,095             0       0%   \n",
       "204140  1329    Aransas            19,503             0       0%   \n",
       "204141  1481     Travis           627,720             6       0%   \n",
       "204142  1510     Dallam             5,733             0       0%   \n",
       "\n",
       "                          DateTime  \n",
       "0       2021-02-17 01:55:55.281883  \n",
       "1       2021-02-17 01:55:58.352994  \n",
       "2       2021-02-17 01:56:01.411124  \n",
       "3       2021-02-17 01:56:04.414076  \n",
       "4       2021-02-17 01:56:06.654780  \n",
       "...                            ...  \n",
       "204138  2021-02-26 19:39:04.719373  \n",
       "204139  2021-02-26 19:39:06.938395  \n",
       "204140  2021-02-26 19:39:10.250157  \n",
       "204141  2021-02-26 19:39:13.562152  \n",
       "204142  2021-02-26 19:39:45.494971  \n",
       "\n",
       "[204143 rows x 6 columns]"
      ],
      "text/html": "<div>\n<style scoped>\n    .dataframe tbody tr th:only-of-type {\n        vertical-align: middle;\n    }\n\n    .dataframe tbody tr th {\n        vertical-align: top;\n    }\n\n    .dataframe thead th {\n        text-align: right;\n    }\n</style>\n<table border=\"1\" class=\"dataframe\">\n  <thead>\n    <tr style=\"text-align: right;\">\n      <th></th>\n      <th>ID</th>\n      <th>County</th>\n      <th>Customers Tracked</th>\n      <th>Customers Out</th>\n      <th>Outage %</th>\n      <th>DateTime</th>\n    </tr>\n  </thead>\n  <tbody>\n    <tr>\n      <th>0</th>\n      <td>1510</td>\n      <td>Dallam</td>\n      <td>5,727</td>\n      <td>0</td>\n      <td>0%</td>\n      <td>2021-02-17 01:55:55.281883</td>\n    </tr>\n    <tr>\n      <th>1</th>\n      <td>1734</td>\n      <td>Sherman</td>\n      <td>2,992</td>\n      <td>0</td>\n      <td>0%</td>\n      <td>2021-02-17 01:55:58.352994</td>\n    </tr>\n    <tr>\n      <th>2</th>\n      <td>1762</td>\n      <td>Hansford</td>\n      <td>5,098</td>\n      <td>0</td>\n      <td>0%</td>\n      <td>2021-02-17 01:56:01.411124</td>\n    </tr>\n    <tr>\n      <th>3</th>\n      <td>1801</td>\n      <td>Ochiltree</td>\n      <td>8,959</td>\n      <td>0</td>\n      <td>0%</td>\n      <td>2021-02-17 01:56:04.414076</td>\n    </tr>\n    <tr>\n      <th>4</th>\n      <td>1858</td>\n      <td>Lipscomb</td>\n      <td>4,164</td>\n      <td>0</td>\n      <td>0%</td>\n      <td>2021-02-17 01:56:06.654780</td>\n    </tr>\n    <tr>\n      <th>...</th>\n      <td>...</td>\n      <td>...</td>\n      <td>...</td>\n      <td>...</td>\n      <td>...</td>\n      <td>...</td>\n    </tr>\n    <tr>\n      <th>204138</th>\n      <td>1581</td>\n      <td>Camp</td>\n      <td>8,126</td>\n      <td>0</td>\n      <td>0%</td>\n      <td>2021-02-26 19:39:04.719373</td>\n    </tr>\n    <tr>\n      <th>204139</th>\n      <td>1454</td>\n      <td>Rains</td>\n      <td>11,095</td>\n      <td>0</td>\n      <td>0%</td>\n      <td>2021-02-26 19:39:06.938395</td>\n    </tr>\n    <tr>\n      <th>204140</th>\n      <td>1329</td>\n      <td>Aransas</td>\n      <td>19,503</td>\n      <td>0</td>\n      <td>0%</td>\n      <td>2021-02-26 19:39:10.250157</td>\n    </tr>\n    <tr>\n      <th>204141</th>\n      <td>1481</td>\n      <td>Travis</td>\n      <td>627,720</td>\n      <td>6</td>\n      <td>0%</td>\n      <td>2021-02-26 19:39:13.562152</td>\n    </tr>\n    <tr>\n      <th>204142</th>\n      <td>1510</td>\n      <td>Dallam</td>\n      <td>5,733</td>\n      <td>0</td>\n      <td>0%</td>\n      <td>2021-02-26 19:39:45.494971</td>\n    </tr>\n  </tbody>\n</table>\n<p>204143 rows × 6 columns</p>\n</div>"
     },
     "metadata": {},
     "execution_count": 10
    }
   ],
   "source": [
    "fulldata"
   ]
  },
  {
   "cell_type": "code",
   "execution_count": 21,
   "metadata": {},
   "outputs": [
    {
     "output_type": "execute_result",
     "data": {
      "text/plain": [
       "count     204143\n",
       "unique      9427\n",
       "top            0\n",
       "freq      103689\n",
       "Name: Customers Out, dtype: object"
      ]
     },
     "metadata": {},
     "execution_count": 21
    }
   ],
   "source": [
    "fulldata['Customers Out'].describe()"
   ]
  },
  {
   "cell_type": "code",
   "execution_count": null,
   "metadata": {},
   "outputs": [],
   "source": []
  },
  {
   "cell_type": "code",
   "execution_count": 11,
   "metadata": {},
   "outputs": [
    {
     "output_type": "execute_result",
     "data": {
      "text/plain": [
       "Index(['ID', 'County', 'Customers Tracked', 'Customers Out', 'Outage %',\n",
       "       'DateTime'],\n",
       "      dtype='object')"
      ]
     },
     "metadata": {},
     "execution_count": 11
    }
   ],
   "source": [
    "fulldata.keys()"
   ]
  },
  {
   "cell_type": "code",
   "execution_count": 3,
   "metadata": {},
   "outputs": [],
   "source": [
    "# data=fulldata[['dataid','local_15min','grid']]"
   ]
  },
  {
   "cell_type": "code",
   "execution_count": 12,
   "metadata": {},
   "outputs": [],
   "source": [
    "sorteddata=fulldata.sort_values(by = ['ID', 'DateTime'])"
   ]
  },
  {
   "cell_type": "code",
   "execution_count": 13,
   "metadata": {},
   "outputs": [],
   "source": [
    "ids=sorteddata['ID'].unique().tolist()"
   ]
  },
  {
   "cell_type": "code",
   "execution_count": 15,
   "metadata": {},
   "outputs": [
    {
     "output_type": "stream",
     "name": "stdout",
     "text": [
      "253\n"
     ]
    }
   ],
   "source": [
    "print(len(ids))"
   ]
  },
  {
   "cell_type": "code",
   "execution_count": 17,
   "metadata": {},
   "outputs": [],
   "source": [
    "blackout_data = []\n",
    "# def convertDate(d):\n",
    "#     d = pd.to_datetime(d[:-3])\n",
    "#     return d \n",
    "\n",
    "for i in range(len(ids)):\n",
    "    blackout_data.append(sorteddata.loc[sorteddata.ID==ids[i]])\n",
    "    blackout_data[i] = blackout_data[i].reset_index().drop(columns=['index'])\n",
    "    # blackout_data[i]['DateTime'] = blackout_data[i]['DateTime'].apply(convertDate)\n",
    "    #Convert datetimes to ints for faster ploting \n",
    "    # blackout_data[i]['15min_ints'] =  blackout_data[i]['local_15min'].map(mdates.date2num)"
   ]
  },
  {
   "cell_type": "code",
   "execution_count": 18,
   "metadata": {},
   "outputs": [
    {
     "output_type": "execute_result",
     "data": {
      "text/plain": [
       "       ID    County Customers Tracked Customers Out Outage %  \\\n",
       "0    1326  Anderson            24,799           525    2.12%   \n",
       "1    1326  Anderson            24,799           525    2.12%   \n",
       "2    1326  Anderson            24,799           549    2.21%   \n",
       "3    1326  Anderson            24,799           549    2.21%   \n",
       "4    1326  Anderson            24,799           549    2.21%   \n",
       "..    ...       ...               ...           ...      ...   \n",
       "803  1326  Anderson            24,800             0       0%   \n",
       "804  1326  Anderson            24,800             0       0%   \n",
       "805  1326  Anderson            24,800             0       0%   \n",
       "806  1326  Anderson            24,800             0       0%   \n",
       "807  1326  Anderson            24,800             0       0%   \n",
       "\n",
       "                       DateTime  \n",
       "0    2021-02-17 02:02:29.849683  \n",
       "1    2021-02-17 02:15:30.773378  \n",
       "2    2021-02-17 02:28:25.200753  \n",
       "3    2021-02-17 02:41:24.546364  \n",
       "4    2021-02-17 02:54:50.976373  \n",
       "..                          ...  \n",
       "803  2021-02-26 18:19:46.974491  \n",
       "804  2021-02-26 18:38:09.083511  \n",
       "805  2021-02-26 18:56:12.414498  \n",
       "806  2021-02-26 19:14:41.210969  \n",
       "807  2021-02-26 19:32:53.979269  \n",
       "\n",
       "[808 rows x 6 columns]"
      ],
      "text/html": "<div>\n<style scoped>\n    .dataframe tbody tr th:only-of-type {\n        vertical-align: middle;\n    }\n\n    .dataframe tbody tr th {\n        vertical-align: top;\n    }\n\n    .dataframe thead th {\n        text-align: right;\n    }\n</style>\n<table border=\"1\" class=\"dataframe\">\n  <thead>\n    <tr style=\"text-align: right;\">\n      <th></th>\n      <th>ID</th>\n      <th>County</th>\n      <th>Customers Tracked</th>\n      <th>Customers Out</th>\n      <th>Outage %</th>\n      <th>DateTime</th>\n    </tr>\n  </thead>\n  <tbody>\n    <tr>\n      <th>0</th>\n      <td>1326</td>\n      <td>Anderson</td>\n      <td>24,799</td>\n      <td>525</td>\n      <td>2.12%</td>\n      <td>2021-02-17 02:02:29.849683</td>\n    </tr>\n    <tr>\n      <th>1</th>\n      <td>1326</td>\n      <td>Anderson</td>\n      <td>24,799</td>\n      <td>525</td>\n      <td>2.12%</td>\n      <td>2021-02-17 02:15:30.773378</td>\n    </tr>\n    <tr>\n      <th>2</th>\n      <td>1326</td>\n      <td>Anderson</td>\n      <td>24,799</td>\n      <td>549</td>\n      <td>2.21%</td>\n      <td>2021-02-17 02:28:25.200753</td>\n    </tr>\n    <tr>\n      <th>3</th>\n      <td>1326</td>\n      <td>Anderson</td>\n      <td>24,799</td>\n      <td>549</td>\n      <td>2.21%</td>\n      <td>2021-02-17 02:41:24.546364</td>\n    </tr>\n    <tr>\n      <th>4</th>\n      <td>1326</td>\n      <td>Anderson</td>\n      <td>24,799</td>\n      <td>549</td>\n      <td>2.21%</td>\n      <td>2021-02-17 02:54:50.976373</td>\n    </tr>\n    <tr>\n      <th>...</th>\n      <td>...</td>\n      <td>...</td>\n      <td>...</td>\n      <td>...</td>\n      <td>...</td>\n      <td>...</td>\n    </tr>\n    <tr>\n      <th>803</th>\n      <td>1326</td>\n      <td>Anderson</td>\n      <td>24,800</td>\n      <td>0</td>\n      <td>0%</td>\n      <td>2021-02-26 18:19:46.974491</td>\n    </tr>\n    <tr>\n      <th>804</th>\n      <td>1326</td>\n      <td>Anderson</td>\n      <td>24,800</td>\n      <td>0</td>\n      <td>0%</td>\n      <td>2021-02-26 18:38:09.083511</td>\n    </tr>\n    <tr>\n      <th>805</th>\n      <td>1326</td>\n      <td>Anderson</td>\n      <td>24,800</td>\n      <td>0</td>\n      <td>0%</td>\n      <td>2021-02-26 18:56:12.414498</td>\n    </tr>\n    <tr>\n      <th>806</th>\n      <td>1326</td>\n      <td>Anderson</td>\n      <td>24,800</td>\n      <td>0</td>\n      <td>0%</td>\n      <td>2021-02-26 19:14:41.210969</td>\n    </tr>\n    <tr>\n      <th>807</th>\n      <td>1326</td>\n      <td>Anderson</td>\n      <td>24,800</td>\n      <td>0</td>\n      <td>0%</td>\n      <td>2021-02-26 19:32:53.979269</td>\n    </tr>\n  </tbody>\n</table>\n<p>808 rows × 6 columns</p>\n</div>"
     },
     "metadata": {},
     "execution_count": 18
    }
   ],
   "source": [
    "blackout_data[0]"
   ]
  },
  {
   "cell_type": "code",
   "execution_count": 19,
   "metadata": {},
   "outputs": [
    {
     "output_type": "execute_result",
     "data": {
      "text/plain": [
       "       ID   County Customers Tracked Customers Out Outage %  \\\n",
       "0    1327  Andrews            10,567         2,712   25.66%   \n",
       "1    1327  Andrews            10,567         2,712   25.66%   \n",
       "2    1327  Andrews            10,567         1,141    10.8%   \n",
       "3    1327  Andrews            10,567         1,141    10.8%   \n",
       "4    1327  Andrews            10,567         1,141    10.8%   \n",
       "..    ...      ...               ...           ...      ...   \n",
       "805  1327  Andrews            10,567             1    0.01%   \n",
       "806  1327  Andrews            10,567             1    0.01%   \n",
       "807  1327  Andrews            10,567             1    0.01%   \n",
       "808  1327  Andrews            10,567             1    0.01%   \n",
       "809  1327  Andrews            10,567             1    0.01%   \n",
       "\n",
       "                       DateTime  \n",
       "0    2021-02-17 02:00:39.111638  \n",
       "1    2021-02-17 02:13:42.159264  \n",
       "2    2021-02-17 02:26:36.117825  \n",
       "3    2021-02-17 02:39:29.229583  \n",
       "4    2021-02-17 02:53:00.754098  \n",
       "..                          ...  \n",
       "805  2021-02-26 18:17:54.995855  \n",
       "806  2021-02-26 18:36:14.476778  \n",
       "807  2021-02-26 18:54:19.630771  \n",
       "808  2021-02-26 19:12:44.665062  \n",
       "809  2021-02-26 19:31:06.162600  \n",
       "\n",
       "[810 rows x 6 columns]"
      ],
      "text/html": "<div>\n<style scoped>\n    .dataframe tbody tr th:only-of-type {\n        vertical-align: middle;\n    }\n\n    .dataframe tbody tr th {\n        vertical-align: top;\n    }\n\n    .dataframe thead th {\n        text-align: right;\n    }\n</style>\n<table border=\"1\" class=\"dataframe\">\n  <thead>\n    <tr style=\"text-align: right;\">\n      <th></th>\n      <th>ID</th>\n      <th>County</th>\n      <th>Customers Tracked</th>\n      <th>Customers Out</th>\n      <th>Outage %</th>\n      <th>DateTime</th>\n    </tr>\n  </thead>\n  <tbody>\n    <tr>\n      <th>0</th>\n      <td>1327</td>\n      <td>Andrews</td>\n      <td>10,567</td>\n      <td>2,712</td>\n      <td>25.66%</td>\n      <td>2021-02-17 02:00:39.111638</td>\n    </tr>\n    <tr>\n      <th>1</th>\n      <td>1327</td>\n      <td>Andrews</td>\n      <td>10,567</td>\n      <td>2,712</td>\n      <td>25.66%</td>\n      <td>2021-02-17 02:13:42.159264</td>\n    </tr>\n    <tr>\n      <th>2</th>\n      <td>1327</td>\n      <td>Andrews</td>\n      <td>10,567</td>\n      <td>1,141</td>\n      <td>10.8%</td>\n      <td>2021-02-17 02:26:36.117825</td>\n    </tr>\n    <tr>\n      <th>3</th>\n      <td>1327</td>\n      <td>Andrews</td>\n      <td>10,567</td>\n      <td>1,141</td>\n      <td>10.8%</td>\n      <td>2021-02-17 02:39:29.229583</td>\n    </tr>\n    <tr>\n      <th>4</th>\n      <td>1327</td>\n      <td>Andrews</td>\n      <td>10,567</td>\n      <td>1,141</td>\n      <td>10.8%</td>\n      <td>2021-02-17 02:53:00.754098</td>\n    </tr>\n    <tr>\n      <th>...</th>\n      <td>...</td>\n      <td>...</td>\n      <td>...</td>\n      <td>...</td>\n      <td>...</td>\n      <td>...</td>\n    </tr>\n    <tr>\n      <th>805</th>\n      <td>1327</td>\n      <td>Andrews</td>\n      <td>10,567</td>\n      <td>1</td>\n      <td>0.01%</td>\n      <td>2021-02-26 18:17:54.995855</td>\n    </tr>\n    <tr>\n      <th>806</th>\n      <td>1327</td>\n      <td>Andrews</td>\n      <td>10,567</td>\n      <td>1</td>\n      <td>0.01%</td>\n      <td>2021-02-26 18:36:14.476778</td>\n    </tr>\n    <tr>\n      <th>807</th>\n      <td>1327</td>\n      <td>Andrews</td>\n      <td>10,567</td>\n      <td>1</td>\n      <td>0.01%</td>\n      <td>2021-02-26 18:54:19.630771</td>\n    </tr>\n    <tr>\n      <th>808</th>\n      <td>1327</td>\n      <td>Andrews</td>\n      <td>10,567</td>\n      <td>1</td>\n      <td>0.01%</td>\n      <td>2021-02-26 19:12:44.665062</td>\n    </tr>\n    <tr>\n      <th>809</th>\n      <td>1327</td>\n      <td>Andrews</td>\n      <td>10,567</td>\n      <td>1</td>\n      <td>0.01%</td>\n      <td>2021-02-26 19:31:06.162600</td>\n    </tr>\n  </tbody>\n</table>\n<p>810 rows × 6 columns</p>\n</div>"
     },
     "metadata": {},
     "execution_count": 19
    }
   ],
   "source": [
    "blackout_data[1]"
   ]
  },
  {
   "cell_type": "code",
   "execution_count": null,
   "metadata": {},
   "outputs": [],
   "source": []
  }
 ]
}